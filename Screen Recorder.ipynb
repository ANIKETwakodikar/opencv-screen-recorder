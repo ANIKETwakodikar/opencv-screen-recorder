{
 "cells": [
  {
   "cell_type": "code",
   "execution_count": 1,
   "id": "77db2ee1",
   "metadata": {},
   "outputs": [],
   "source": [
    "import pyautogui as p\n",
    "import numpy as np\n",
    "import cv2 as cv\n",
    "import time"
   ]
  },
  {
   "cell_type": "code",
   "execution_count": 2,
   "id": "ac88b659",
   "metadata": {},
   "outputs": [
    {
     "name": "stdout",
     "output_type": "stream",
     "text": [
      "Enter your filename and location :jhbhj\n"
     ]
    },
    {
     "name": "stderr",
     "output_type": "stream",
     "text": [
      "OpenCV: FFMPEG: tag 0x44495658/'XVID' is not supported with codec id 12 and format 'mp4 / MP4 (MPEG-4 Part 14)'\n",
      "OpenCV: FFMPEG: fallback to use tag 0x7634706d/'mp4v'\n"
     ]
    }
   ],
   "source": [
    "resolution=p.size()\n",
    "codecc=cv.VideoWriter_fourcc(*'XVID')\n",
    "filename=input('Enter your filename and location :')\n",
    "video=cv.VideoWriter(filename+'.mp4',codecc,7,resolution)"
   ]
  },
  {
   "cell_type": "code",
   "execution_count": 3,
   "id": "6108225a",
   "metadata": {},
   "outputs": [],
   "source": [
    "cv.namedWindow('Live',cv.WINDOW_NORMAL)\n",
    "cv.resizeWindow('Live',480,270)"
   ]
  },
  {
   "cell_type": "code",
   "execution_count": 4,
   "id": "862ea089",
   "metadata": {},
   "outputs": [],
   "source": [
    "while True:\n",
    "    frame=p.screenshot()\n",
    "    frame=np.array(frame)\n",
    "    frame=cv.cvtColor(frame,cv.COLOR_BGR2RGB)\n",
    "    video.write(frame)\n",
    "    cv.imshow('Live',frame)\n",
    "    k=cv.waitKey(1)\n",
    "    if k==ord('q'):\n",
    "        break\n",
    "video.release()\n",
    "cv.destroyAllWindows()   \n"
   ]
  }
 ],
 "metadata": {
  "kernelspec": {
   "display_name": "Python 3 (ipykernel)",
   "language": "python",
   "name": "python3"
  },
  "language_info": {
   "codemirror_mode": {
    "name": "ipython",
    "version": 3
   },
   "file_extension": ".py",
   "mimetype": "text/x-python",
   "name": "python",
   "nbconvert_exporter": "python",
   "pygments_lexer": "ipython3",
   "version": "3.10.6"
  }
 },
 "nbformat": 4,
 "nbformat_minor": 5
}
